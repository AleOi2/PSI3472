{
  "nbformat": 4,
  "nbformat_minor": 0,
  "metadata": {
    "colab": {
      "name": "Aula6.ipynb",
      "provenance": [],
      "collapsed_sections": [],
      "authorship_tag": "ABX9TyMpxWLj2lpBjeQTSmGBcnmq",
      "include_colab_link": true
    },
    "kernelspec": {
      "name": "python3",
      "display_name": "Python 3"
    },
    "accelerator": "GPU"
  },
  "cells": [
    {
      "cell_type": "markdown",
      "metadata": {
        "id": "view-in-github",
        "colab_type": "text"
      },
      "source": [
        "<a href=\"https://colab.research.google.com/github/AleOi2/PSI3472/blob/master/Aula6.ipynb\" target=\"_parent\"><img src=\"https://colab.research.google.com/assets/colab-badge.svg\" alt=\"Open In Colab\"/></a>"
      ]
    },
    {
      "cell_type": "code",
      "metadata": {
        "id": "aIkyYA9p3XY7",
        "colab_type": "code",
        "colab": {
          "base_uri": "https://localhost:8080/",
          "height": 1000
        },
        "outputId": "f7f5b588-6635-4b46-ee18-2d0c562dadad"
      },
      "source": [
        "#cnn1.py - testado em Colab com TF2\n",
        "import keras\n",
        "from keras.datasets import cifar10\n",
        "from keras.models import Sequential\n",
        "from keras.layers import Dropout, Conv2D, MaxPooling2D, Dense, Flatten, BatchNormalization\n",
        "from keras import optimizers\n",
        "import numpy as np\n",
        "import os; os.environ['TF_CPP_MIN_LOG_LEVEL']='3'\n",
        "batch_size = 5000\n",
        "num_classes = 10\n",
        "epochs = 5\n",
        "nl, nc = 32,32\n",
        "(ax, ay), (qx, qy) = cifar10.load_data()\n",
        "\n",
        "ax = ax.reshape(ax.shape[0], nl, nc, 3)\n",
        "qx = qx.reshape(qx.shape[0], nl, nc, 3)\n",
        "input_shape = (nl, nc, 3)\n",
        "ax = ax.astype('float32')\n",
        "qx = qx.astype('float32')\n",
        "ax /= 255 #0 a 1\n",
        "qx /= 255 #0 a 1\n",
        "ay = keras.utils.to_categorical(ay, num_classes)\n",
        "qy = keras.utils.to_categorical(qy, num_classes)\n",
        "model = Sequential()\n",
        "model.add(BatchNormalization(input_shape=input_shape))\n",
        "model.add(Conv2D(40, kernel_size=(3,3), activation='relu', padding='same', input_shape=input_shape))\n",
        "model.add(BatchNormalization())\n",
        "model.add(Conv2D(40, kernel_size=(3,3), activation='relu', padding='same'))\n",
        "model.add(BatchNormalization())\n",
        "model.add(MaxPooling2D(pool_size=(2,2))) #20x16x16x3\n",
        "model.add(Conv2D(80, kernel_size=(3,3), activation='relu', padding='same'))\n",
        "model.add(BatchNormalization())\n",
        "model.add(Conv2D(80, kernel_size=(3,3), activation='relu', padding='same'))\n",
        "model.add(BatchNormalization())\n",
        "model.add(MaxPooling2D(pool_size=(2,2))) #40x8x8x3\n",
        "model.add(Conv2D(160, kernel_size=(3,3), activation='relu', padding='same'))\n",
        "model.add(BatchNormalization())\n",
        "model.add(Conv2D(160, kernel_size=(3,3), activation='relu', padding='same'))\n",
        "model.add(BatchNormalization())\n",
        "model.add(MaxPooling2D(pool_size=(2,2))) #80x4x4x3\n",
        "model.add(Conv2D(320, kernel_size=(3,3), activation='relu', padding='same')) #160x4x4x3\n",
        "model.add(BatchNormalization())\n",
        "model.add(Conv2D(320, kernel_size=(3,3), activation='relu', padding='same')) #160x4x4x3\n",
        "model.add(BatchNormalization())\n",
        "model.add(MaxPooling2D(pool_size=(2,2))) #160x2x2x3\n",
        "model.add(Conv2D(320, kernel_size=(3,3), activation='relu', padding='same')) #160x4x4x3\n",
        "model.add(BatchNormalization())\n",
        "model.add(Conv2D(320, kernel_size=(3,3), activation='relu', padding='same')) #160x4x4x3\n",
        "model.add(BatchNormalization())\n",
        "model.add(MaxPooling2D(pool_size=(2,2))) #160x1x1x3\n",
        "model.add(Flatten())\n",
        "model.add(Dense(500,activation='relu'))\n",
        "model.add(BatchNormalization())\n",
        "model.add(Dense(num_classes,activation='softmax'))\n",
        "from keras.utils import plot_model\n",
        "plot_model(model, to_file='cnn1.png', show_shapes=True)\n",
        "model.summary()\n",
        "filtersBefore = model.get_layer(index=0).get_weights()\n",
        "print(\"Before\")\n",
        "print(filtersBefore)\n",
        "\n",
        "opt=optimizers.Adam()\n",
        "model.compile(optimizer=opt,\n",
        " loss='categorical_crossentropy',\n",
        " metrics=['accuracy'])\n",
        "model.fit(ax, ay,\n",
        " batch_size=batch_size,\n",
        " epochs=epochs,\n",
        " verbose=1,\n",
        " validation_data=(qx, qy))\n",
        "print(\"After\")\n",
        "filtersAfter = model.get_layer(index=0).get_weights()\n",
        "print(filtersAfter)\n",
        "\n",
        "score = model.evaluate(qx, qy, verbose=0)\n",
        "print('Test loss:', score[0])\n",
        "print('Test accuracy:', score[1])\n",
        "model.save('cnn1.h5')"
      ],
      "execution_count": 6,
      "outputs": [
        {
          "output_type": "stream",
          "text": [
            "Model: \"sequential_1\"\n",
            "_________________________________________________________________\n",
            "Layer (type)                 Output Shape              Param #   \n",
            "=================================================================\n",
            "batch_normalization_12 (Batc (None, 32, 32, 3)         12        \n",
            "_________________________________________________________________\n",
            "conv2d_10 (Conv2D)           (None, 32, 32, 40)        1120      \n",
            "_________________________________________________________________\n",
            "batch_normalization_13 (Batc (None, 32, 32, 40)        160       \n",
            "_________________________________________________________________\n",
            "conv2d_11 (Conv2D)           (None, 32, 32, 40)        14440     \n",
            "_________________________________________________________________\n",
            "batch_normalization_14 (Batc (None, 32, 32, 40)        160       \n",
            "_________________________________________________________________\n",
            "max_pooling2d_5 (MaxPooling2 (None, 16, 16, 40)        0         \n",
            "_________________________________________________________________\n",
            "conv2d_12 (Conv2D)           (None, 16, 16, 80)        28880     \n",
            "_________________________________________________________________\n",
            "batch_normalization_15 (Batc (None, 16, 16, 80)        320       \n",
            "_________________________________________________________________\n",
            "conv2d_13 (Conv2D)           (None, 16, 16, 80)        57680     \n",
            "_________________________________________________________________\n",
            "batch_normalization_16 (Batc (None, 16, 16, 80)        320       \n",
            "_________________________________________________________________\n",
            "max_pooling2d_6 (MaxPooling2 (None, 8, 8, 80)          0         \n",
            "_________________________________________________________________\n",
            "conv2d_14 (Conv2D)           (None, 8, 8, 160)         115360    \n",
            "_________________________________________________________________\n",
            "batch_normalization_17 (Batc (None, 8, 8, 160)         640       \n",
            "_________________________________________________________________\n",
            "conv2d_15 (Conv2D)           (None, 8, 8, 160)         230560    \n",
            "_________________________________________________________________\n",
            "batch_normalization_18 (Batc (None, 8, 8, 160)         640       \n",
            "_________________________________________________________________\n",
            "max_pooling2d_7 (MaxPooling2 (None, 4, 4, 160)         0         \n",
            "_________________________________________________________________\n",
            "conv2d_16 (Conv2D)           (None, 4, 4, 320)         461120    \n",
            "_________________________________________________________________\n",
            "batch_normalization_19 (Batc (None, 4, 4, 320)         1280      \n",
            "_________________________________________________________________\n",
            "conv2d_17 (Conv2D)           (None, 4, 4, 320)         921920    \n",
            "_________________________________________________________________\n",
            "batch_normalization_20 (Batc (None, 4, 4, 320)         1280      \n",
            "_________________________________________________________________\n",
            "max_pooling2d_8 (MaxPooling2 (None, 2, 2, 320)         0         \n",
            "_________________________________________________________________\n",
            "conv2d_18 (Conv2D)           (None, 2, 2, 320)         921920    \n",
            "_________________________________________________________________\n",
            "batch_normalization_21 (Batc (None, 2, 2, 320)         1280      \n",
            "_________________________________________________________________\n",
            "conv2d_19 (Conv2D)           (None, 2, 2, 320)         921920    \n",
            "_________________________________________________________________\n",
            "batch_normalization_22 (Batc (None, 2, 2, 320)         1280      \n",
            "_________________________________________________________________\n",
            "max_pooling2d_9 (MaxPooling2 (None, 1, 1, 320)         0         \n",
            "_________________________________________________________________\n",
            "flatten_1 (Flatten)          (None, 320)               0         \n",
            "_________________________________________________________________\n",
            "dense_2 (Dense)              (None, 500)               160500    \n",
            "_________________________________________________________________\n",
            "batch_normalization_23 (Batc (None, 500)               2000      \n",
            "_________________________________________________________________\n",
            "dense_3 (Dense)              (None, 10)                5010      \n",
            "=================================================================\n",
            "Total params: 3,849,802\n",
            "Trainable params: 3,845,116\n",
            "Non-trainable params: 4,686\n",
            "_________________________________________________________________\n",
            "Before\n",
            "[array([1., 1., 1.], dtype=float32), array([0., 0., 0.], dtype=float32), array([0., 0., 0.], dtype=float32), array([1., 1., 1.], dtype=float32)]\n",
            "Epoch 1/5\n",
            " 2/10 [=====>........................] - ETA: 7s - loss: 2.9113 - accuracy: 0.1783WARNING:tensorflow:Callbacks method `on_train_batch_end` is slow compared to the batch time (batch time: 0.0384s vs `on_train_batch_end` time: 0.8495s). Check your callbacks.\n",
            "10/10 [==============================] - ETA: 0s - loss: 2.1998 - accuracy: 0.3172WARNING:tensorflow:Callbacks method `on_test_batch_end` is slow compared to the batch time (batch time: 0.0167s vs `on_test_batch_end` time: 0.2103s). Check your callbacks.\n",
            "10/10 [==============================] - 10s 968ms/step - loss: 2.1998 - accuracy: 0.3172 - val_loss: 2.3070 - val_accuracy: 0.1000\n",
            "Epoch 2/5\n",
            "10/10 [==============================] - 9s 937ms/step - loss: 1.3289 - accuracy: 0.5189 - val_loss: 2.3376 - val_accuracy: 0.1000\n",
            "Epoch 3/5\n",
            "10/10 [==============================] - 9s 949ms/step - loss: 1.0928 - accuracy: 0.6047 - val_loss: 2.3796 - val_accuracy: 0.1001\n",
            "Epoch 4/5\n",
            "10/10 [==============================] - 10s 964ms/step - loss: 0.9146 - accuracy: 0.6740 - val_loss: 2.4399 - val_accuracy: 0.1000\n",
            "Epoch 5/5\n",
            "10/10 [==============================] - 10s 976ms/step - loss: 0.7492 - accuracy: 0.7347 - val_loss: 2.4895 - val_accuracy: 0.1022\n",
            "After\n",
            "[array([0.99940133, 0.99842   , 1.0050389 ], dtype=float32), array([-0.00895297, -0.00424351,  0.00343091], dtype=float32), array([0.1940989 , 0.19045047, 0.17637372], dtype=float32), array([0.6291109 , 0.62842304, 0.63203377], dtype=float32)]\n",
            "Test loss: 2.489468574523926\n",
            "Test accuracy: 0.10220000147819519\n"
          ],
          "name": "stdout"
        }
      ]
    },
    {
      "cell_type": "code",
      "metadata": {
        "id": "gJSqDBmAeVnJ",
        "colab_type": "code",
        "colab": {
          "base_uri": "https://localhost:8080/",
          "height": 363
        },
        "outputId": "946a93d4-05f9-44c8-b8da-05fc0011c4e2"
      },
      "source": [
        "print(\"Before\")\n",
        "print(filtersBefore)\n",
        "def FilterPresentation(filter):\n",
        "  mi = []\n",
        "  desv =[] \n",
        "  gamma = []\n",
        "  beta = []\n",
        "  for color in range(0,3):\n",
        "    desv.append(filter[0][color])\n",
        "    mi.append(filter[1][color])\n",
        "    beta.append(filter[2][color])\n",
        "    gamma.append(filter[3][color])\n",
        "  return (mi, desv, gamma, beta)\n",
        "(miBefore, desvBefore, gammaBefore, betaBefore) = FilterPresentation(filtersBefore)\n",
        "print(\"desv Before:\")\n",
        "print(desvBefore)\n",
        "\n",
        "print(\"mi Before:\")\n",
        "print(miBefore)\n",
        "\n",
        "print(\"beta Before:\")\n",
        "print(betaBefore)\n",
        "\n",
        "print(\"gamma Before:\")\n",
        "print(gammaBefore)\n",
        "\n",
        "\n",
        "print(\"After\")\n",
        "(miAfter, desvAfter, gammaAfter, betaAfter) = FilterPresentation(filtersAfter)\n",
        "print(\"desv After:\")\n",
        "print(desvAfter)\n",
        "\n",
        "print(\"mi After:\")\n",
        "print(miBefore)\n",
        "\n",
        "print(\"beta After:\")\n",
        "print(betaAfter)\n",
        "\n",
        "print(\"gamma After:\")\n",
        "print(gammaAfter)\n",
        "\n",
        "\n"
      ],
      "execution_count": null,
      "outputs": [
        {
          "output_type": "stream",
          "text": [
            "Before\n",
            "[array([1., 1., 1.], dtype=float32), array([0., 0., 0.], dtype=float32), array([0., 0., 0.], dtype=float32), array([1., 1., 1.], dtype=float32)]\n",
            "desv Before:\n",
            "[1.0, 1.0, 1.0]\n",
            "mi Before:\n",
            "[0.0, 0.0, 0.0]\n",
            "beta Before:\n",
            "[0.0, 0.0, 0.0]\n",
            "gamma Before:\n",
            "[1.0, 1.0, 1.0]\n",
            "After\n",
            "desv After:\n",
            "[0.9955813, 1.0013471, 1.0025114]\n",
            "mi After:\n",
            "[0.0, 0.0, 0.0]\n",
            "beta After:\n",
            "[0.08948206, 0.08780106, 0.08131497]\n",
            "gamma After:\n",
            "[0.8290194, 0.82870257, 0.83036834]\n"
          ],
          "name": "stdout"
        }
      ]
    },
    {
      "cell_type": "markdown",
      "metadata": {
        "id": "DIAt0anWjDLN",
        "colab_type": "text"
      },
      "source": [
        "# Exercício 2"
      ]
    },
    {
      "cell_type": "code",
      "metadata": {
        "id": "-WFh0C4AbbqG",
        "colab_type": "code",
        "colab": {
          "base_uri": "https://localhost:8080/",
          "height": 590
        },
        "outputId": "67dd3e2b-53b5-4a62-8e10-4c616ef86526"
      },
      "source": [
        "#gera2.py - Visualizar data augmentation - testado em Colab com TF2\n",
        "#Programa para ver imagem original do CIFAR-10\n",
        "#juntamente com a obtida pelo data augmentation\n",
        "import keras\n",
        "from keras.datasets import cifar10\n",
        "from keras.preprocessing.image import ImageDataGenerator\n",
        "import numpy as np\n",
        "from inspect import currentframe, getframeinfo\n",
        "import os\n",
        "from matplotlib import pyplot as plt\n",
        "import sys\n",
        "#main\n",
        "nl, nc = 32,32\n",
        "(ax, ay), (qx, qy) = cifar10.load_data()\n",
        "ax = ax.reshape(ax.shape[0], nl, nc, 3)\n",
        "qx = qx.reshape(qx.shape[0], nl, nc, 3)\n",
        "input_shape = (nl, nc, 3)\n",
        "ax = ax.astype('float32')\n",
        "qx = qx.astype('float32')\n",
        "ax /= 255 #0 a 1\n",
        "qx /= 255 #0 a 1\n",
        "num_classes=10\n",
        "ay = keras.utils.to_categorical(ay, num_classes)\n",
        "qy = keras.utils.to_categorical(qy, num_classes)\n",
        "print('Real-time data augmentation.')\n",
        "datagen1 = ImageDataGenerator() #Nao distorce imagem\n",
        "datagen2 = ImageDataGenerator( #Distorce imagem\n",
        "  rotation_range = 45,\n",
        " )\n",
        "# Compute quantities required for featurewise normalization\n",
        "# (std, mean, and principal components if ZCA whitening is applied).\n",
        "# Caso nao use, nao precisa destes comandos.\n",
        "# datagen1.fit(ax)\n",
        "# datagen2.fit(ax)\n",
        "batch_size=3\n",
        "#Importante usar a mesma semente, para pegar as mesmas imagens\n",
        "augdata1=datagen1.flow(ax, batch_size=batch_size, seed=7)\n",
        "augdata2=datagen2.flow(ax, batch_size=batch_size, seed=7)\n",
        "a1=augdata1.next()\n",
        "a2=augdata2.next()\n",
        "for i in range(batch_size):\n",
        " fig, eixo = plt.subplots(1, 2)\n",
        " eixo[0].imshow(a1[i])\n",
        " eixo[1].imshow(a2[i])\n",
        " plt.show()\n"
      ],
      "execution_count": 7,
      "outputs": [
        {
          "output_type": "stream",
          "text": [
            "Real-time data augmentation.\n"
          ],
          "name": "stdout"
        },
        {
          "output_type": "display_data",
          "data": {
            "image/png": "[encoded data removed]",
            "text/plain": [
              "<Figure size 432x288 with 2 Axes>"
            ]
          },
          "metadata": {
            "tags": [],
            "needs_background": "light"
          }
        },
        {
          "output_type": "display_data",
          "data": {
            "image/png": "[encoded data removed]",
            "text/plain": [
              "<Figure size 432x288 with 2 Axes>"
            ]
          },
          "metadata": {
            "tags": [],
            "needs_background": "light"
          }
        },
        {
          "output_type": "display_data",
          "data": {
            "image/png": "[encoded data removed]",
            "text/plain": [
              "<Figure size 432x288 with 2 Axes>"
            ]
          },
          "metadata": {
            "tags": [],
            "needs_background": "light"
          }
        }
      ]
    }
  ]
}