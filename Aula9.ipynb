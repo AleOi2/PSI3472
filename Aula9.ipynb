{
  "nbformat": 4,
  "nbformat_minor": 0,
  "metadata": {
    "colab": {
      "name": "Aula9.ipynb",
      "provenance": [],
      "collapsed_sections": [],
      "authorship_tag": "ABX9TyMpUph5ZKMNPVdiyavvEVfk",
      "include_colab_link": true
    },
    "kernelspec": {
      "name": "python3",
      "display_name": "Python 3"
    },
    "accelerator": "GPU"
  },
  "cells": [
    {
      "cell_type": "markdown",
      "metadata": {
        "id": "view-in-github",
        "colab_type": "text"
      },
      "source": [
        "<a href=\"https://colab.research.google.com/github/AleOi2/PSI3472/blob/master/Aula9.ipynb\" target=\"_parent\"><img src=\"https://colab.research.google.com/assets/colab-badge.svg\" alt=\"Open In Colab\"/></a>"
      ]
    },
    {
      "cell_type": "code",
      "metadata": {
        "id": "EwtXW56Ss5iJ",
        "outputId": "783c1873-0c30-4d1b-8b8b-87b92944a8b8",
        "colab": {
          "base_uri": "https://localhost:8080/",
          "height": 34
        }
      },
      "source": [
        "from keras.datasets import cifar10\n",
        "import pandas as pd\n",
        "import numpy as np\n",
        "from tensorflow import keras\n",
        "from google.colab import drive\n",
        "drive.mount('/content/drive')"
      ],
      "execution_count": null,
      "outputs": [
        {
          "output_type": "stream",
          "text": [
            "Mounted at /content/drive\n"
          ],
          "name": "stdout"
        }
      ]
    },
    {
      "cell_type": "code",
      "metadata": {
        "id": "YTKZTLtnvENH",
        "outputId": "fccf924a-5268-464f-a820-3ca8d1052840",
        "colab": {
          "base_uri": "https://localhost:8080/",
          "height": 102
        }
      },
      "source": [
        "# Testing\n",
        "\n",
        "num_classes = 10\n",
        "nl, nc = 32,32\n",
        "\n",
        "def dataParser(ax, ay, qx, qy):\n",
        "  ax = ax.reshape(ax.shape[0], nl, nc, 3)\n",
        "  qx = qx.reshape(qx.shape[0], nl, nc, 3)\n",
        "  input_shape = (nl, nc, 3)\n",
        "  ax = ax.astype('float32')\n",
        "  qx = qx.astype('float32')\n",
        "  ax /= 255 #0 a 1\n",
        "  qx /= 255 #0 a 1\n",
        "  ax -= 0.5 #-0.5 a +0.5\n",
        "  qx -= 0.5 #-0.5 a +0.5\n",
        "  ay = keras.utils.to_categorical(ay, num_classes)\n",
        "  qy = keras.utils.to_categorical(qy, num_classes)\n",
        "  return (ax, ay, qx, qy)\n",
        "\n",
        "(ax, ay), (qx, qy) = cifar10.load_data()\n",
        "model = keras.models.load_model('/content/drive/My Drive/Colab Notebooks/psi3472/Aula9/resnet_hae3.h5')\n",
        "prediction = model.predict(qx)\n",
        "(ax, ay, qx, qy) = dataParser(ax, ay, qx, qy)\n",
        "\n",
        "score = model.evaluate(qx, qy, verbose=1)\n",
        "print('Test loss:', score[0])\n",
        "print('Test accuracy:', score[1])"
      ],
      "execution_count": null,
      "outputs": [
        {
          "output_type": "stream",
          "text": [
            "Downloading data from https://www.cs.toronto.edu/~kriz/cifar-10-python.tar.gz\n",
            "170500096/170498071 [==============================] - 2s 0us/step\n",
            "313/313 [==============================] - 2s 5ms/step - loss: 0.4260 - accuracy: 0.9187\n",
            "Test loss: 0.4260416626930237\n",
            "Test accuracy: 0.9186999797821045\n"
          ],
          "name": "stdout"
        }
      ]
    },
    {
      "cell_type": "code",
      "metadata": {
        "id": "jFixmsVB-UP-",
        "outputId": "5fbf45c0-8f12-4cfe-9f6d-ee62723ccd39",
        "colab": {
          "base_uri": "https://localhost:8080/",
          "height": 374
        }
      },
      "source": [
        "def ImageGenerator(img, qtde, seed):\n",
        "  from keras.preprocessing.image import ImageDataGenerator\n",
        "  from matplotlib import  pyplot as plt\n",
        "  datagen = ImageDataGenerator( \n",
        "    width_shift_range=0.1,\n",
        "    height_shift_range=0.1,\n",
        "    fill_mode='nearest',\n",
        "    horizontal_flip=True)\n",
        "  augdata=datagen.flow(np.expand_dims(img, axis=0), batch_size=qtde, seed=seed)\n",
        "  return augdata\n",
        "\n",
        "def pickModa(numpyArray):\n",
        "  import numpy as np\n",
        "  return np.bincount(numpyArray).argmax()\n",
        "\n",
        "def evaluatePrediction(model, image, qtde, seed):\n",
        "  import numpy as np\n",
        "  arrrayResponse = []\n",
        "  predicted = model.predict(np.expand_dims(image, axis=0))\n",
        "  arrrayResponse.append(np.argmax(predicted))\n",
        "  imgIter = ImageGenerator(image, qtde, seed)\n",
        "  for iter in range(0, qtde):\n",
        "    predicted = model.predict(imgIter.next())\n",
        "    arrrayResponse.append(np.argmax(predicted))\n",
        "  \n",
        "  return pickModa(np.array(arrrayResponse))\n",
        "\n",
        "predicted = []\n",
        "qtde = 11\n",
        "seed = 7\n",
        "disp = 0; count = 0\n",
        "# [ predicted.append(evaluatePrediction(model, element, qtde, seed)) for element in qx]\n",
        "for element in qx:\n",
        "  # Predict\n",
        "  predicted.append(evaluatePrediction(model, element, qtde, seed))\n",
        "  disp = disp + 1\n",
        "  if disp == 500:\n",
        "    disp = 0\n",
        "    count = count + 1\n",
        "    print(\"Foram: {0} Imagens\".format(count * 500) )\n",
        "\n",
        "predicted = np.array(predicted)\n",
        "qyTest = []\n",
        "[ qyTest.append(np.argmax(test)) for test in qy] \n",
        "diff = qyTest - predicted\n",
        "print(diff[diff == 0].shape)\n",
        "  "
      ],
      "execution_count": null,
      "outputs": [
        {
          "output_type": "stream",
          "text": [
            "Foram: 500 Imagens\n",
            "Foram: 1000 Imagens\n",
            "Foram: 1500 Imagens\n",
            "Foram: 2000 Imagens\n",
            "Foram: 2500 Imagens\n",
            "Foram: 3000 Imagens\n",
            "Foram: 3500 Imagens\n",
            "Foram: 4000 Imagens\n",
            "Foram: 4500 Imagens\n",
            "Foram: 5000 Imagens\n",
            "Foram: 5500 Imagens\n",
            "Foram: 6000 Imagens\n",
            "Foram: 6500 Imagens\n",
            "Foram: 7000 Imagens\n",
            "Foram: 7500 Imagens\n",
            "Foram: 8000 Imagens\n",
            "Foram: 8500 Imagens\n",
            "Foram: 9000 Imagens\n",
            "Foram: 9500 Imagens\n",
            "Foram: 10000 Imagens\n",
            "(9361,)\n"
          ],
          "name": "stdout"
        }
      ]
    },
    {
      "cell_type": "code",
      "metadata": {
        "id": "us-uWpfnCCr9",
        "outputId": "b75843f9-9fe0-4525-9e5e-de4ab7592293",
        "colab": {
          "base_uri": "https://localhost:8080/",
          "height": 34
        }
      },
      "source": [
        "9361/10000 * 100\n"
      ],
      "execution_count": null,
      "outputs": [
        {
          "output_type": "execute_result",
          "data": {
            "text/plain": [
              "93.61"
            ]
          },
          "metadata": {
            "tags": []
          },
          "execution_count": 5
        }
      ]
    }
  ]
}